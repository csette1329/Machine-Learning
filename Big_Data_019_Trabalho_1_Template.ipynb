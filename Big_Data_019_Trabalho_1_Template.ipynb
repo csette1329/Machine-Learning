{
  "nbformat": 4,
  "nbformat_minor": 0,
  "metadata": {
    "colab": {
      "provenance": []
    },
    "kernelspec": {
      "name": "python3",
      "display_name": "Python 3"
    },
    "language_info": {
      "name": "python"
    }
  },
  "cells": [
    {
      "cell_type": "markdown",
      "source": [
        "### Integrantes do grupo:\n",
        "- Carlos Zerwes Amado Sette\n",
        "- Igor Alejandro Sousa Santos\n",
        "- João Pedro Brandimarte Viccari"
      ],
      "metadata": {
        "id": "XFjah-zGtV2v"
      }
    },
    {
      "cell_type": "markdown",
      "source": [
        "**Instruções iniciais**\n",
        "\n",
        "*   Abra os links dos dados:\n",
        "    * https://tinyurl.com/bigdata-mcu\n",
        "*   Clique em \"Adicionar atalho ao Drive\"\n"
      ],
      "metadata": {
        "id": "dJquc_EOk0rY"
      }
    },
    {
      "cell_type": "markdown",
      "source": [
        "# Solução"
      ],
      "metadata": {
        "id": "parQVI_aEvHi"
      }
    },
    {
      "cell_type": "code",
      "source": [
        "from google.colab import drive\n",
        "drive.mount('/content/drive')"
      ],
      "metadata": {
        "id": "JvqjY2c7GkTz",
        "colab": {
          "base_uri": "https://localhost:8080/"
        },
        "outputId": "ee10365f-05a9-4940-a22e-c0f6cd9657b3"
      },
      "execution_count": null,
      "outputs": [
        {
          "output_type": "stream",
          "name": "stdout",
          "text": [
            "Drive already mounted at /content/drive; to attempt to forcibly remount, call drive.mount(\"/content/drive\", force_remount=True).\n"
          ]
        }
      ]
    },
    {
      "cell_type": "markdown",
      "source": [
        "## Configuração do ambiente"
      ],
      "metadata": {
        "id": "ll3SWxdhVXuw"
      }
    },
    {
      "cell_type": "code",
      "source": [
        "# !pip install pyspark"
      ],
      "metadata": {
        "id": "yGC-3wxv7Rbp"
      },
      "execution_count": null,
      "outputs": []
    },
    {
      "cell_type": "code",
      "source": [
        "from pyspark.sql import SparkSession\n",
        "from pyspark.sql import Row\n",
        "\n",
        "from datetime import datetime\n",
        "\n",
        "appName = 'Big Data'\n",
        "master = 'local[*]'\n",
        "\n",
        "spark = SparkSession.builder     \\\n",
        "    .master(master) \\\n",
        "    .appName(appName) \\\n",
        "    .getOrCreate()\n",
        "\n",
        "spark.sparkContext.setLogLevel(\"WARN\")"
      ],
      "metadata": {
        "id": "XOi6nUq-7spA"
      },
      "execution_count": null,
      "outputs": []
    },
    {
      "cell_type": "markdown",
      "source": [
        "## Leitura de dados"
      ],
      "metadata": {
        "id": "ZlxXaW0KVdyk"
      }
    },
    {
      "cell_type": "code",
      "source": [
        "# Usar esta entrada para testes\n",
        "# input_data = spark.sparkContext.textFile('file:///content/drive/My Drive/mcu/mcu_subset.csv')"
      ],
      "metadata": {
        "id": "j8FV0Qhx7s5a"
      },
      "execution_count": null,
      "outputs": []
    },
    {
      "cell_type": "code",
      "source": [
        "# Usar esta entrada para entrega final\n",
        "input_data = spark.sparkContext.textFile('file:///content/drive/My Drive/mcu/mcu.csv')"
      ],
      "metadata": {
        "id": "LkAZjNaDR65R"
      },
      "execution_count": null,
      "outputs": []
    },
    {
      "cell_type": "code",
      "source": [],
      "metadata": {
        "id": "07MiKMqkR0cY"
      },
      "execution_count": null,
      "outputs": []
    },
    {
      "cell_type": "code",
      "source": [
        "input_data.take(10)"
      ],
      "metadata": {
        "id": "ew5wAkH9jnkg",
        "colab": {
          "base_uri": "https://localhost:8080/"
        },
        "outputId": "c165ba1d-ad65-4df5-a500-140316a4c770"
      },
      "execution_count": null,
      "outputs": [
        {
          "output_type": "execute_result",
          "data": {
            "text/plain": [
              "[';character;line;movie;year;words;Adam McKay;Anna Boden;Art Marcum;Ashley Edward Miller;Chris McKenna;Christopher Ford;Christopher Markus;Christopher Yost;Craig Kyle;Don Payne;Drew Pearce;Edgar Wright;Eric Pearson;Erik Sommers;Geneva Robertson-Dworet;Hawk Ostby;James Gunn;Joe Cornish;Joe Robert Cole;John Francis Daley;Jon Watts;Jonathan Goldstein;Joss Whedon;Justin Theroux;Mark Fergus;Matt Holloway;Paul Rudd;Ryan Coogler;Ryan Fleck;Shane Black;Stephen McFeely;Zack Stentz',\n",
              " '0;TONY STARK;Oh, I get it.  You guys aren’t allowed to talk.  Is that it?  Are you not allowed to talk?;Iron Man;2008;22;False;False;True;False;False;False;False;False;False;False;False;False;False;False;False;True;False;False;False;False;False;False;False;False;True;True;False;False;False;False;False;False',\n",
              " '1;IRON MAN JIMMY;No.  We’re allowed to talk.;Iron Man;2008;6;False;False;True;False;False;False;False;False;False;False;False;False;False;False;False;True;False;False;False;False;False;False;False;False;True;True;False;False;False;False;False;False',\n",
              " '2;TONY STARK;Oh.  I see.  So it’s personal.;Iron Man;2008;8;False;False;True;False;False;False;False;False;False;False;False;False;False;False;False;True;False;False;False;False;False;False;False;False;True;True;False;False;False;False;False;False',\n",
              " '3;RAMIREZ;I think they’re intimidated.;Iron Man;2008;4;False;False;True;False;False;False;False;False;False;False;False;False;False;False;False;True;False;False;False;False;False;False;False;False;True;True;False;False;False;False;False;False',\n",
              " '4;TONY STARK;Good God, you’re a woman. I, honestly, I couldn’t have called that. I would apologize, but isn’t that what we’re going for here? I saw you as a soldier first. ;Iron Man;2008;31;False;False;True;False;False;False;False;False;False;False;False;False;False;False;False;True;False;False;False;False;False;False;False;False;True;True;False;False;False;False;False;False',\n",
              " '5;IRON MAN JIMMY;I have a question, sir. ;Iron Man;2008;6;False;False;True;False;False;False;False;False;False;False;False;False;False;False;False;True;False;False;False;False;False;False;False;False;True;True;False;False;False;False;False;False',\n",
              " '6;TONY STARK;Please.;Iron Man;2008;1;False;False;True;False;False;False;False;False;False;False;False;False;False;False;False;True;False;False;False;False;False;False;False;False;True;True;False;False;False;False;False;False',\n",
              " '7;IRON MAN JIMMY;Is it true you’re twelve for twelve with last years Maxim cover girls?;Iron Man;2008;13;False;False;True;False;False;False;False;False;False;False;False;False;False;False;False;True;False;False;False;False;False;False;False;False;True;True;False;False;False;False;False;False',\n",
              " '8;TONY STARK;Excellent question. Yes and no. March and I had a schedule conflict but, thankfully, the Christmas cover was twins.  Anyone else? You, with the hand up. ;Iron Man;2008;28;False;False;True;False;False;False;False;False;False;False;False;False;False;False;False;True;False;False;False;False;False;False;False;False;True;True;False;False;False;False;False;False']"
            ]
          },
          "metadata": {},
          "execution_count": 149
        }
      ]
    },
    {
      "cell_type": "code",
      "source": [
        "cnt = input_data.count()\n",
        "\n",
        "print(\"Total de linhas:\",cnt)"
      ],
      "metadata": {
        "colab": {
          "base_uri": "https://localhost:8080/"
        },
        "id": "Q_xqgkwbnBrm",
        "outputId": "6b7b9d29-27af-42ef-d907-9a936ab2e5ae"
      },
      "execution_count": null,
      "outputs": [
        {
          "output_type": "stream",
          "name": "stdout",
          "text": [
            "Total de linhas: 15737\n"
          ]
        }
      ]
    },
    {
      "cell_type": "code",
      "source": [
        "input_data.getNumPartitions()"
      ],
      "metadata": {
        "colab": {
          "base_uri": "https://localhost:8080/"
        },
        "id": "hkI9Dy4KnHLe",
        "outputId": "2f7ecd71-1009-4360-9feb-9f493876b426"
      },
      "execution_count": null,
      "outputs": [
        {
          "output_type": "execute_result",
          "data": {
            "text/plain": [
              "2"
            ]
          },
          "metadata": {},
          "execution_count": 151
        }
      ]
    },
    {
      "cell_type": "code",
      "source": [
        "# Criar função para separar linhas do arquivo lido em chaves {'character':'line'}\n",
        "def char_line(linha):\n",
        "  campos = linha.split(';')\n",
        "  character = campos[1].lower()\n",
        "  line = campos[2]\n",
        "  return (character, line)\n"
      ],
      "metadata": {
        "id": "fN0DctgXn2zB"
      },
      "execution_count": null,
      "outputs": []
    },
    {
      "cell_type": "code",
      "source": [
        "char_line(\"98;JAMES RHODES;Something’s...seriously wrong with you, man. ;Iron Man;2008;6;False;False;True;False;False;False;False;False;False;False;False;False;False;False;False;True;False;False;False;False;False;False;False;False;True;True;False;False;False;False;False;False\")"
      ],
      "metadata": {
        "colab": {
          "base_uri": "https://localhost:8080/"
        },
        "id": "hWUBXv9ipFtK",
        "outputId": "588cec90-38b3-4f56-d4e2-cd38db1b8651"
      },
      "execution_count": null,
      "outputs": [
        {
          "output_type": "execute_result",
          "data": {
            "text/plain": [
              "('james rhodes', 'Something’s...seriously wrong with you, man. ')"
            ]
          },
          "metadata": {},
          "execution_count": 153
        }
      ]
    },
    {
      "cell_type": "markdown",
      "source": [
        "## Exemplo de uso do pipeline"
      ],
      "metadata": {
        "id": "uY6f_ywzS7WQ"
      }
    },
    {
      "cell_type": "code",
      "source": [
        "from transformers import pipeline\n",
        "\n",
        "# Baixar e configurar pipeline do modelo\n",
        "sentiment = pipeline('sentiment-analysis', device=0)\n",
        "\n"
      ],
      "metadata": {
        "id": "BdDT9KZs75Ii",
        "colab": {
          "base_uri": "https://localhost:8080/"
        },
        "outputId": "6ceff431-c9ee-4874-a089-696108411406"
      },
      "execution_count": null,
      "outputs": [
        {
          "output_type": "stream",
          "name": "stderr",
          "text": [
            "No model was supplied, defaulted to distilbert/distilbert-base-uncased-finetuned-sst-2-english and revision 714eb0f (https://huggingface.co/distilbert/distilbert-base-uncased-finetuned-sst-2-english).\n",
            "Using a pipeline without specifying a model name and revision in production is not recommended.\n",
            "Device set to use cpu\n"
          ]
        }
      ]
    },
    {
      "cell_type": "code",
      "source": [
        "result = sentiment(\"I am Iron Man\")\n"
      ],
      "metadata": {
        "id": "5rZB06XhHKVc"
      },
      "execution_count": null,
      "outputs": []
    },
    {
      "cell_type": "code",
      "source": [
        "result"
      ],
      "metadata": {
        "id": "N8DgkfOEmGMo",
        "colab": {
          "base_uri": "https://localhost:8080/"
        },
        "outputId": "043643ee-037f-4f07-96e8-8cbb8ac88887"
      },
      "execution_count": null,
      "outputs": [
        {
          "output_type": "execute_result",
          "data": {
            "text/plain": [
              "[{'label': 'POSITIVE', 'score': 0.999076247215271}]"
            ]
          },
          "metadata": {},
          "execution_count": 156
        }
      ]
    },
    {
      "cell_type": "code",
      "source": [
        "result[0]['label']"
      ],
      "metadata": {
        "id": "ACxp_cupSlZ4",
        "colab": {
          "base_uri": "https://localhost:8080/",
          "height": 36
        },
        "outputId": "e5711f65-3a43-4b9d-e0c5-5d156631b424"
      },
      "execution_count": null,
      "outputs": [
        {
          "output_type": "execute_result",
          "data": {
            "text/plain": [
              "'POSITIVE'"
            ],
            "application/vnd.google.colaboratory.intrinsic+json": {
              "type": "string"
            }
          },
          "metadata": {},
          "execution_count": 157
        }
      ]
    },
    {
      "cell_type": "code",
      "source": [
        "# Criar função para converter POSITIVE em 1 e NEGATIVE em -1\n",
        "def convert_label(dict_label):\n",
        "  if dict_label[0]['label'] == 'POSITIVE':\n",
        "    dict_label[0]['label'] = 1\n",
        "  else: dict_label[0]['label'] = -1\n"
      ],
      "metadata": {
        "id": "EMKvvvYbjpIw"
      },
      "execution_count": null,
      "outputs": []
    },
    {
      "cell_type": "code",
      "source": [
        "convert_label(result)"
      ],
      "metadata": {
        "id": "nSHwCc5Gj73o"
      },
      "execution_count": null,
      "outputs": []
    },
    {
      "cell_type": "code",
      "source": [
        "result"
      ],
      "metadata": {
        "colab": {
          "base_uri": "https://localhost:8080/"
        },
        "id": "idVS12hykWBw",
        "outputId": "4bd2ccc6-53e2-4470-c6aa-f9d99c2debb2"
      },
      "execution_count": null,
      "outputs": [
        {
          "output_type": "execute_result",
          "data": {
            "text/plain": [
              "[{'label': 1, 'score': 0.999076247215271}]"
            ]
          },
          "metadata": {},
          "execution_count": 160
        }
      ]
    },
    {
      "cell_type": "code",
      "source": [
        "result_2 = sentiment(\"Guess what, Cap, we lost, and you weren’t there.\")\n",
        "result_2"
      ],
      "metadata": {
        "colab": {
          "base_uri": "https://localhost:8080/"
        },
        "id": "D6qW2xp6klKJ",
        "outputId": "945a9589-50ed-4fe3-c1bb-05364358ea78"
      },
      "execution_count": null,
      "outputs": [
        {
          "output_type": "execute_result",
          "data": {
            "text/plain": [
              "[{'label': 'NEGATIVE', 'score': 0.999036431312561}]"
            ]
          },
          "metadata": {},
          "execution_count": 161
        }
      ]
    },
    {
      "cell_type": "code",
      "source": [
        "convert_label(result_2)\n",
        "print(result_2[0]['label'])\n",
        "print(result_2[0]['score'])"
      ],
      "metadata": {
        "colab": {
          "base_uri": "https://localhost:8080/"
        },
        "id": "prleW4UGktDr",
        "outputId": "958ad5a3-4308-4cbc-9ac8-7cd76a46e767"
      },
      "execution_count": null,
      "outputs": [
        {
          "output_type": "stream",
          "name": "stdout",
          "text": [
            "-1\n",
            "0.999036431312561\n"
          ]
        }
      ]
    },
    {
      "cell_type": "markdown",
      "source": [
        "## Solução"
      ],
      "metadata": {
        "id": "2imTdr8FTLHd"
      }
    },
    {
      "cell_type": "code",
      "source": [
        "# Inclua outros personagens de sua escolha\n",
        "# characters = {'tony stark', 'steve rogers', 'thanos', 'bruce banner','hulk', 'jarvis', 'vision', 'peter parker', 'loki', 'pepper potts'}"
      ],
      "metadata": {
        "id": "WATst_IMTK6o"
      },
      "execution_count": null,
      "outputs": []
    },
    {
      "cell_type": "code",
      "source": [
        "import re\n",
        "\n",
        "# Modifique a solução para implementar a função Map\n",
        "def line_sentiment(line):\n",
        "  campos = line.split(\";\")\n",
        "\n",
        "  # Criar uma condiçao de acesso pois a funçao flatmat estava tentando acessar indices inexistentes\n",
        "  if len(campos) >= 3:  # garantir pelo menos 3 campos (index 0, 1, 2)\n",
        "    personagem = campos[1].lower()\n",
        "    characters = {'tony stark', 'steve rogers', 'thanos', 'bruce banner', 'hulk', 'jarvis', 'vision', 'peter parker', 'loki', 'pepper potts'}\n",
        "\n",
        "    # Inicializar com valores padrão\n",
        "    polaridade = None\n",
        "    contagem = 0\n",
        "\n",
        "    if personagem in characters:\n",
        "      polaridade = sentiment(campos[2])\n",
        "      convert_label(polaridade)\n",
        "      contagem = 1\n",
        "\n",
        "    if polaridade is not None:\n",
        "      yield (personagem, (polaridade, contagem))\n",
        "  else:\n",
        "    pass  # Pula a linha"
      ],
      "metadata": {
        "id": "KRdb5Xsp8CZj"
      },
      "execution_count": null,
      "outputs": []
    },
    {
      "cell_type": "code",
      "source": [
        "result = line_sentiment(\"98;TONY STARK;Something’s...seriously wrong with you, man. ;Iron Man;2008;6;False;False;True;False;False;False;False;False;False;False;False;False;False;False;False;True;False;False;False;False;False;False;False;False;True;True;False;False;False;False;False;False\")\n",
        "print(list(result))"
      ],
      "metadata": {
        "colab": {
          "base_uri": "https://localhost:8080/"
        },
        "id": "hxcd5tb2q_Tt",
        "outputId": "a2f42cd2-10d5-4911-87e1-0fba56f08287"
      },
      "execution_count": null,
      "outputs": [
        {
          "output_type": "stream",
          "name": "stdout",
          "text": [
            "[('tony stark', ([{'label': -1, 'score': 0.9991362690925598}], 1))]\n"
          ]
        }
      ]
    },
    {
      "cell_type": "code",
      "source": [
        "s = input_data.flatMap(line_sentiment)"
      ],
      "metadata": {
        "id": "t28-0AL78Um8"
      },
      "execution_count": null,
      "outputs": []
    },
    {
      "cell_type": "code",
      "source": [
        "s.take(10)"
      ],
      "metadata": {
        "id": "Kjs8C50G8gUt",
        "colab": {
          "base_uri": "https://localhost:8080/"
        },
        "outputId": "6abb7287-f1a7-4634-c020-4609099f329f"
      },
      "execution_count": null,
      "outputs": [
        {
          "output_type": "execute_result",
          "data": {
            "text/plain": [
              "[('tony stark', ([{'label': -1, 'score': 0.9937212467193604}], 1)),\n",
              " ('tony stark', ([{'label': 1, 'score': 0.999362051486969}], 1)),\n",
              " ('tony stark', ([{'label': 1, 'score': 0.9592078924179077}], 1)),\n",
              " ('tony stark', ([{'label': 1, 'score': 0.9994257688522339}], 1)),\n",
              " ('tony stark', ([{'label': -1, 'score': 0.914114236831665}], 1)),\n",
              " ('tony stark', ([{'label': 1, 'score': 0.9987884163856506}], 1)),\n",
              " ('tony stark', ([{'label': -1, 'score': 0.9971954822540283}], 1)),\n",
              " ('tony stark', ([{'label': 1, 'score': 0.9401814341545105}], 1)),\n",
              " ('tony stark', ([{'label': 1, 'score': 0.9965348243713379}], 1)),\n",
              " ('tony stark', ([{'label': -1, 'score': 0.9705791473388672}], 1))]"
            ]
          },
          "metadata": {},
          "execution_count": 167
        }
      ]
    },
    {
      "cell_type": "code",
      "source": [
        "# testando como acessar os indices\n",
        "data = [('tony stark', ([{'label': -1, 'score': 0.9881800413131714}], 1))]\n",
        "# print(data[0])\n",
        "# print(data[0][1])\n",
        "# print(data[0][1][0])\n",
        "# print(data[0][1][1])\n",
        "# print(data[0][1][0][0])\n",
        "# print(data[0][1][0][0]['label'])\n"
      ],
      "metadata": {
        "id": "flTlb7T2hWds"
      },
      "execution_count": null,
      "outputs": []
    },
    {
      "cell_type": "code",
      "source": [
        "# Implemente e aplique um método reduce para acumulação dos sentimentos dos personagens\n",
        "def accumulate_sentiment(acc,v):\n",
        "  acc_nota = acc[0]\n",
        "  acc_contagem = acc[1]\n",
        "  v_nota = v[0]\n",
        "  v_contagem = v[1]\n",
        "  return (acc_nota+v_nota, acc_contagem+v_contagem)"
      ],
      "metadata": {
        "id": "AHn3MrUE9NZ9"
      },
      "execution_count": null,
      "outputs": []
    },
    {
      "cell_type": "code",
      "source": [
        "rdd_simplificado = s.mapValues(lambda x: (x[0][0]['label'], x[1]))\n",
        "m = rdd_simplificado.reduceByKey(accumulate_sentiment)"
      ],
      "metadata": {
        "id": "JsKnjvJGBNE_"
      },
      "execution_count": null,
      "outputs": []
    },
    {
      "cell_type": "code",
      "source": [
        "m.take(10)"
      ],
      "metadata": {
        "colab": {
          "base_uri": "https://localhost:8080/"
        },
        "id": "d2KybO2WBThg",
        "outputId": "6d6ad6aa-390c-489e-a075-2d30d17ab05b"
      },
      "execution_count": null,
      "outputs": [
        {
          "output_type": "execute_result",
          "data": {
            "text/plain": [
              "[('jarvis', (-29, 135)),\n",
              " ('tony stark', (-156, 1788)),\n",
              " ('bruce banner', (-113, 379)),\n",
              " ('thanos', (-11, 109)),\n",
              " ('vision', (-2, 76)),\n",
              " ('loki', (-11, 327)),\n",
              " ('pepper potts', (-58, 442)),\n",
              " ('hulk', (0, 44)),\n",
              " ('peter parker', (-9, 551)),\n",
              " ('steve rogers', (-147, 977))]"
            ]
          },
          "metadata": {},
          "execution_count": 171
        }
      ]
    },
    {
      "cell_type": "code",
      "source": [
        "# Implemente e aplique um método para calculo do sentimento médio\n",
        "def mean_sentiment(v):\n",
        "  acc_sentiment = v[0]\n",
        "  acc_count = v[1]\n",
        "  return round(acc_sentiment/acc_count,1)\n"
      ],
      "metadata": {
        "id": "VPOdoTif9tdE"
      },
      "execution_count": null,
      "outputs": []
    },
    {
      "cell_type": "code",
      "source": [
        "medias = m.mapValues(mean_sentiment)"
      ],
      "metadata": {
        "id": "t-MeT70fGHa9"
      },
      "execution_count": null,
      "outputs": []
    },
    {
      "cell_type": "code",
      "source": [
        "medias.take(10)"
      ],
      "metadata": {
        "colab": {
          "base_uri": "https://localhost:8080/"
        },
        "id": "Fs4A2wR6GMXF",
        "outputId": "a38ed0b6-7275-44a4-d491-701429462a34"
      },
      "execution_count": null,
      "outputs": [
        {
          "output_type": "execute_result",
          "data": {
            "text/plain": [
              "[('jarvis', -0.2),\n",
              " ('tony stark', -0.1),\n",
              " ('hulk', 0.0),\n",
              " ('peter parker', -0.0),\n",
              " ('steve rogers', -0.2),\n",
              " ('thanos', -0.1),\n",
              " ('bruce banner', -0.3),\n",
              " ('vision', -0.0),\n",
              " ('loki', -0.0),\n",
              " ('pepper potts', -0.1)]"
            ]
          },
          "metadata": {},
          "execution_count": 174
        }
      ]
    },
    {
      "cell_type": "code",
      "source": [
        "# Verificando se temos 10 entradas (10 personagens)\n",
        "medias.count()"
      ],
      "metadata": {
        "colab": {
          "base_uri": "https://localhost:8080/"
        },
        "id": "daIAiMWIGb-c",
        "outputId": "2e2f2220-c70b-4fe0-cfee-49de5a81dc63"
      },
      "execution_count": null,
      "outputs": [
        {
          "output_type": "execute_result",
          "data": {
            "text/plain": [
              "10"
            ]
          },
          "metadata": {},
          "execution_count": 175
        }
      ]
    },
    {
      "cell_type": "markdown",
      "source": [
        "# Resultado Final\n",
        "\n",
        "\n",
        "Apresente o resultado final da sua análise completa."
      ],
      "metadata": {
        "id": "ooDzQ2LLWHC_"
      }
    },
    {
      "cell_type": "code",
      "source": [
        "# Imprimir resultado final\n",
        "medias.collect()"
      ],
      "metadata": {
        "colab": {
          "base_uri": "https://localhost:8080/"
        },
        "id": "-TWU0pAHQXBW",
        "outputId": "14281b40-1926-4f7f-d47e-e7eb774873aa"
      },
      "execution_count": null,
      "outputs": [
        {
          "output_type": "execute_result",
          "data": {
            "text/plain": [
              "[('jarvis', -0.2),\n",
              " ('tony stark', -0.1),\n",
              " ('thanos', -0.1),\n",
              " ('bruce banner', -0.3),\n",
              " ('vision', -0.0),\n",
              " ('loki', -0.0),\n",
              " ('pepper potts', -0.1),\n",
              " ('hulk', 0.0),\n",
              " ('peter parker', -0.0),\n",
              " ('steve rogers', -0.2)]"
            ]
          },
          "metadata": {},
          "execution_count": 176
        }
      ]
    }
  ]
}